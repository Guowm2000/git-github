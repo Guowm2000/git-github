{
 "cells": [
  {
   "cell_type": "markdown",
   "id": "d06b6fe6-833a-49ec-845b-da839dad28db",
   "metadata": {},
   "source": [
    "# GIT-PUSH(1)                                      Git Manual                                     GIT-PUSH(1)\n",
    "**来自命令帮助，git push --help, 2023.3.24, Guo Weimin\n",
    "\n",
    "**NAME**  \n",
    "\n",
    "git-push - Update remote refs along with associated objects\n",
    "\n",
    "**SYNOPSIS**  \n",
    "\n",
    "       git push  \n",
    "       \n",
    "       [--all | --mirror | --tags]--------------------(1)  \n",
    "       [--follow-tags]--------------------------------(2)  \n",
    "       [--atomic]-------------------------------------(3)  \n",
    "       [-n | --dry-run]-------------------------------(4)  \n",
    "       [--receive-pack=<git-receive-pack>]------------(5)  \n",
    "       [--repo=<repository>]--------------------------(6)  \n",
    "       [-f | --force]---------------------------------(7)  \n",
    "       [--prune]--------------------------------------(8)  \n",
    "       [-v | --verbose]-------------------------------(9)  \n",
    "       [-u | --set-upstream]--------------------------(10)  \n",
    "       [--[no-]signed|--sign=(true|false|if-asked)]---(11)  \n",
    "       [--force-with-lease[=<refname>[:<expect>]]]----(12)\n",
    "       [--no-verify]----------------------------------(13)  \n",
    "       [<repository> [<refspec>...]]------------------(14)\n",
    "       "
   ]
  },
  {
   "cell_type": "markdown",
   "id": "50ae4a6b-d499-454b-b61b-62aec1e2edb2",
   "metadata": {},
   "source": [
    "## DESCRIPTION\n",
    "Updates remote refs using local refs, while sending objects necessary to complete the given refs.  \n",
    "    \n",
    "使用本地引用更新远程引用，同时发送给定应用所指代的对象。\n",
    "\n",
    "You can make interesting things happen to a repository every time you push into it, by setting up hooks there. See documentation for git-receive-pack(1).  \n",
    "  \n",
    "通过在存储库中设置挂钩，您可以在每次向仓库推送时使其发生有趣的事情。请参阅git-receive-pack（1）的文档。\n",
    "\n",
    "When the command line does not specify where to push with the <repository> argument, branch.*.remote configuration for the current branch is consulted to determine where to push. If the configuration is missing, it defaults to origin.  \n",
    "\n",
    "当命令行没有使用**＜repository＞**参数指定推送位置时，将查询当前分支的branch.x.remote配置以确定推送位置。如果缺少这个配置选项，则默认推送到 **origin**。\n",
    "\n",
    "When the command line does not specify what to push with <refspec>... arguments or --all, --mirror,--tags options, the command finds the default <refspec> by consulting remote.*.push configuration,and if it is not found, honors push.default configuration to decide what to push (See git-config(1)for the meaning of push.default).\n",
    "\n",
    "当命令行没有使用**＜refspec＞**参数指定推送什么，也没有使用--all、--mirror、--tags选项时，该命令通过查阅remote.*.push配置来查找默认的**＜refspec＞**，如果找不到，则使用push.default配置来决定要推送什么（请参阅git config（1）中关于push.default的含义）。\n",
    "    \n",
    "When neither the command-line nor the configuration specify what to push, the default behavior is used, which corresponds to the simple value for push.default: the current branch is pushed to the corresponding upstream branch, but as a safety measure, the push is aborted if the upstream branch does not have the same name as the local one.\n",
    "\n",
    "当命令行和配置都没有指定要推送的内容时，将使用默认行为，该行为对应于push.default的简单值：当前分支被推送到相应的上游分支，但作为一种安全措施，如果上游分支与本地分支的名称不相同，则推送将中止。\n",
    "    "
   ]
  },
  {
   "cell_type": "markdown",
   "id": "caae4ef2-5a0f-40a7-888d-f7d5851494b0",
   "metadata": {
    "tags": []
   },
   "source": [
    "## OPTIONS\n",
    "### **< repository >**, 上述第（14）个参数  \n",
    "The \"remote\" repository that is destination of a push operation. This parameter can be either a URL (see the section GIT URLS below) or the name of a remote (see the section REMOTES below).\n",
    "\n",
    "远程仓库是push操作的目的地，即将本次仓库push到远端的目的地。这个参数可以是一个URL(参看下面的GIT URL一节），也可以是远程仓库的名字（参看下面的REMOTES一节）\n",
    "\n",
    "例如：  \n",
    "`git push -u origin master               #将本地分支master推送到以origin为shortname的远端仓库中区`\n",
    "`            origin-----就是<repository>`\n",
    "`            master-----本地分支名`\n"
   ]
  },
  {
   "cell_type": "markdown",
   "id": "57f3bc6d-668e-4b8d-a6cc-457936d780ba",
   "metadata": {
    "tags": []
   },
   "source": [
    "### **< refspec >...** ，跟在< repository >后面的参数\n",
    "Specify what destination ref to update with what source object. The format of a **< refspec >** parameter is an optional plus +, followed by the source object **< src >**, followed by a **colon :** , followed by the destination ref **< dst >**.\n",
    "\n",
    "该参数用于指定使用哪个源对象更新目标引用。＜refspec＞参数的格式是可选的加号，后跟源对象＜src＞，后跟冒号：，后跟目标ref＜dst＞。  \n",
    "\n",
    ">`形如：  +<src>:<dst>`\n",
    "\n",
    "The < src > is often the name of the branch you would want to push, but it can be any arbitrary \"SHA-1 expression\", such as master~4 or HEAD (see gitrevisions(7)).\n",
    "\n",
    ">< src >通常是您想要推送的分支的名称，它可以是任何任意的“SHA-1表达式”，如master~4或HEAD（请参阅git revisions（7））。\n",
    "\n",
    "The < dst > tells which ref on the remote side is updated with this push. Arbitrary expressions cannot be used here, an actual ref must be named. \n",
    "\n",
    ">< dst >告诉远程端本次 push 命令将更新哪个ref（远端仓库的引用）。此处不能使用任意表达式，必须命名一个实际的ref。\n",
    "\n",
    "If **git push [ < repository > ]** without any < refspec > argument is set to update some ref at the destination with < src > with **remote.< repository >.push** configuration variable,  \n",
    "\n",
    ">如果**git-push[ < repository > ]** 命令不带任何< refspec >参数，那将会使用**remote.< repository >.push**配置变量中的< src >来更新目标处的ref（远端的仓库应用名）。\n",
    "\n",
    ":< dst > part can be omitted—such a push will update a ref that < src > normally updates without any < refspec > on the command line. Otherwise, missing :< dst > means to update the same ref as the < src >.\n",
    "\n",
    ">**：＜dst＞**可以省略，这样的push将使用命令行上没有任何＜refspec＞参数的方式更新远端的ref？？？。否则，缺失:< dst > 意味着更新与< src >相同的ref。\n",
    "\n",
    "The object referenced by < src > is used to update the < dst > reference on the remote side. By default this is only allowed if < dst > is not a tag (annotated or lightweight), and then only if it can fast-forward < dst >. By having the optional leading +, you can tell Git to update the < dst > ref even if it is not allowed by default (e.g., it is not a fast-forward.) This does not attempt to merge < src > into < dst >. See EXAMPLES below for details.  \n",
    "\n",
    ">< src >引用的对象用于更新远程端< dst >引用所指代的对象。默认情况下，只有当＜dst＞不是标记（带注释或轻量级）时才允许这样做，并且只有当它可以快进＜dst>时才允许。通过使用可选的前导+，您可以告诉Git更新＜dst＞ref，即使默认情况下不允许（例如，它不是快进）。这不会试图将＜src＞合并到＜dst>中。有关详细信息，请参见下面的示例。\n",
    "\n",
    "tag < tag > means the same as refs/tags/< tag >:refs/tags/< tag >.\n",
    "\n",
    "Pushing an empty < src > allows you to delete the < dst > ref from the remote repository.  \n",
    ">push一个空的＜src＞可以从远程存储库中删除＜dst＞ref。\n",
    "\n",
    "The special refspec : (or +: to allow non-fast-forward updates) directs Git to push \"matching\" branches: for every branch that exists on the local side, the remote side is updated if a branch of the same name already exists on the remote side.  \n",
    "\n",
    ">特殊的refspec:（或 +：允许非快进更新）指示Git推送“匹配”分支：对于本地端存在的每个分支，如果远程端已经存在同名分支，则会更新远程端。"
   ]
  },
  {
   "cell_type": "markdown",
   "id": "451cc13d-c823-477f-b112-9655c0940cf0",
   "metadata": {
    "tags": []
   },
   "source": [
    "### --all 参数\n",
    "Push all branches (i.e. refs under refs/heads/); cannot be used with other < refspec >.\n",
    ">推送所有分支（例如：refs/heads/下的refs）；不能与其他< refspec >一起使用。"
   ]
  },
  {
   "cell_type": "markdown",
   "id": "29fae101-bd4c-4ccd-94a7-b479ca3899c1",
   "metadata": {},
   "source": [
    "###       --prune参数\n",
    "           Remove remote branches that don’t have a local counterpart. For example a remote branch tmp will\n",
    "           be removed if a local branch with the same name doesn’t exist any more. This also respects\n",
    "           refspecs, e.g.  git push --prune remote refs/heads/*:refs/tmp/* would make sure that remote\n",
    "           refs/tmp/foo will be removed if refs/heads/foo doesn’t exist.\n",
    "           \n",
    "           删除没有本地对应分支的远程分支。例如，如果不再存在具有相同名称的本地分支，则远程分支tmp将被删除。这也尊重refspecs，  \n",
    "           例如： git push--prune remote refs/heads/*：refs/tmp/* 将确保在refs/heads/soo不存在的情况下删除远程refs/tmp/foo。"
   ]
  },
  {
   "cell_type": "markdown",
   "id": "b7aa8287-ea5c-4608-8fce-19088a32cb72",
   "metadata": {},
   "source": [
    "###       --mirror参数\n",
    "           Instead of naming each ref to push, specifies that all refs under refs/ (which includes but is\n",
    "           not limited to refs/heads/, refs/remotes/, and refs/tags/) be mirrored to the remote repository.\n",
    "           Newly created local refs will be pushed to the remote end, locally updated refs will be force\n",
    "           updated on the remote end, and deleted refs will be removed from the remote end. This is the\n",
    "           default if the configuration option remote.<remote>.mirror is set.\n",
    "           \n",
    "           指定refs/（包括但不限于refs/heads/、refs/remotes/和refs/tags/）下的所有ref都镜像到远程存储库，而不是命名要\n",
    "           推送的每个ref。新创建的本地引用将被推送到远程端，本地更新的引用将在远程端强制更新，删除的引用将从远程端删除。如果配\n",
    "           置选项是远程的，则这是默认设置<远程>.镜像已设置。"
   ]
  },
  {
   "cell_type": "markdown",
   "id": "b3a63123-4555-4fdf-a61b-a83dbaedc2da",
   "metadata": {},
   "source": [
    "       -n, --dry-run\n",
    "           Do everything except actually send the updates."
   ]
  },
  {
   "cell_type": "markdown",
   "id": "c3ba7918-d813-4aa3-a621-78fbce027eeb",
   "metadata": {},
   "source": [
    "       --porcelain\n",
    "           Produce machine-readable output. The output status line for each ref will be tab-separated and\n",
    "           sent to stdout instead of stderr. The full symbolic names of the refs will be given."
   ]
  },
  {
   "cell_type": "markdown",
   "id": "2f39157c-9f67-473c-9e08-85cb426906cf",
   "metadata": {},
   "source": [
    "       --delete\n",
    "           All listed refs are deleted from the remote repository. This is the same as prefixing all refs\n",
    "           with a colon."
   ]
  },
  {
   "cell_type": "markdown",
   "id": "4908ff8c-c99b-4285-b9eb-284b5a54d3bd",
   "metadata": {},
   "source": [
    "       --tags\n",
    "           All refs under refs/tags are pushed, in addition to refspecs explicitly listed on the command\n",
    "           line."
   ]
  },
  {
   "cell_type": "markdown",
   "id": "922e445b-dcc4-4536-9582-89a20ac50bda",
   "metadata": {},
   "source": [
    "       --follow-tags\n",
    "           Push all the refs that would be pushed without this option, and also push annotated tags in\n",
    "           refs/tags that are missing from the remote but are pointing at commit-ish that are reachable\n",
    "           from the refs being pushed. This can also be specified with configuration variable\n",
    "           push.followTags. For more information, see push.followTags in git-config(1)."
   ]
  },
  {
   "cell_type": "markdown",
   "id": "9f2e6bc1-3d74-4fa7-aa0e-aa4720b7e76a",
   "metadata": {},
   "source": [
    "       --[no-]signed, --sign=(true|false|if-asked)\n",
    "           GPG-sign the push request to update refs on the receiving side, to allow it to be checked by the\n",
    "           hooks and/or be logged. If false or --no-signed, no signing will be attempted. If true or\n",
    "           --signed, the push will fail if the server does not support signed pushes. If set to if-asked,"
   ]
  },
  {
   "cell_type": "markdown",
   "id": "8092d593-9fee-47a1-a105-9d171fea33e2",
   "metadata": {},
   "source": []
  },
  {
   "cell_type": "markdown",
   "id": "d6b90f11-2045-459c-afc4-a4a9633cc5ca",
   "metadata": {},
   "source": []
  },
  {
   "cell_type": "markdown",
   "id": "334c5c9d-3c05-446d-a0e0-4874eafd6337",
   "metadata": {},
   "source": []
  },
  {
   "cell_type": "markdown",
   "id": "2be9d957-a8cb-434a-87ca-26f58d713231",
   "metadata": {},
   "source": []
  },
  {
   "cell_type": "markdown",
   "id": "81cb651f-d113-4a1e-a724-336ee4128ef1",
   "metadata": {},
   "source": []
  },
  {
   "cell_type": "markdown",
   "id": "269d556b-d954-456d-8fb6-7278eba1a2ae",
   "metadata": {},
   "source": []
  },
  {
   "cell_type": "markdown",
   "id": "721b6a9d-2cce-4448-a599-4377b2ff64e3",
   "metadata": {},
   "source": []
  }
 ],
 "metadata": {
  "kernelspec": {
   "display_name": "Python 3 (ipykernel)",
   "language": "python",
   "name": "python3"
  },
  "language_info": {
   "codemirror_mode": {
    "name": "ipython",
    "version": 3
   },
   "file_extension": ".py",
   "mimetype": "text/x-python",
   "name": "python",
   "nbconvert_exporter": "python",
   "pygments_lexer": "ipython3",
   "version": "3.9.9"
  }
 },
 "nbformat": 4,
 "nbformat_minor": 5
}
