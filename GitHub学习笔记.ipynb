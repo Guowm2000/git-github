{
 "cells": [
  {
   "cell_type": "markdown",
   "id": "9694110b-75a5-40a4-b11e-18b87098b97f",
   "metadata": {},
   "source": [
    "# Git - 简明指南"
   ]
  },
  {
   "cell_type": "markdown",
   "id": "ff575430-8566-4cd9-bb14-ec8447553646",
   "metadata": {},
   "source": [
    "## Git简介\n",
    "- Git 是一个开源的分布式版本控制系统，用于敏捷高效地处理任何或小或大的项目。  \n",
    "- Git 是 Linus Torvalds 为了帮助管理 Linux 内核开发而开发的一个开放源码的版本控制软件。  \n",
    "- Git 与常用的版本控制工具 CVS, Subversion 等不同，它采用了分布式版本库的方式，不必服务器端软件支持。  "
   ]
  },
  {
   "cell_type": "markdown",
   "id": "637e7d73-3b4c-4f9d-8e8c-8da3e5926efa",
   "metadata": {},
   "source": [
    "## 安装\n",
    "\n",
    "1. 下载 git OSX 版  \n",
    "2. 下载 git Windows 版  \n",
    "3. 下载 git Linux 版  \n",
    "    1. Linux似乎是自带的，未验证\n",
    "    2. 目前麒麟系统的安装目录在  \n",
    "        `/usr/bin/git`\n",
    "    3. 当前版本为  \n",
    "        `git version 2.7.4`"
   ]
  },
  {
   "cell_type": "markdown",
   "id": "31bba614-738b-43b1-a4e1-20f72a3da28b",
   "metadata": {},
   "source": [
    "## Git 配置\n",
    "\n",
    "Git 提供了一个叫做 git config 的工具，专门用来配置或读取相应的工作环境变量。这些环境变量，决定了 Git 在各个环节的具体  \n",
    "工作方式和行为。这些变量可以存放在以下三个不同的地方：  \n",
    "    \n",
    "- **/etc/gitconfig 文件**：系统中对所有用户都普遍适用的配置。若使用 **git config 时用 --system 选项**，读写的就是这个文件。  \n",
    "- **~/.gitconfig 文件**  ：用户目录下的配置文件(/home/mhxc/.gitconfig),只适用于该用户。若使用 **git config 时用 --global 选项**，读写的就是这个文件。  \n",
    "- **.git/config 文件**   ：即当前项目的 Git 目录中的配置文件，也就是工作目录中的配置文件，这里的配置仅仅针对当前项目有效。  \n",
    "\n",
    "每一个级别的配置都会覆盖上层的相同配置，所以 .git/config 里的配置会覆盖 /etc/gitconfig 中的同名变量。  \n",
    "\n",
    "在 Windows 系统上，Git 会找寻用户主目录下的 .gitconfig 文件。主目录即 $HOME 变量指定的目录，一般都是 C:\\Documents and Settings\\$USER。此外，Git 还会尝试找寻 /etc/gitconfig 文件，只不过看当初 Git 装在什么目录，就以此作为根目录来定位。 "
   ]
  },
  {
   "cell_type": "markdown",
   "id": "909e02f9-ca47-4508-ada0-cdf4424ae64b",
   "metadata": {},
   "source": [
    "### 用户信息\n",
    "\n",
    "配置个人的用户名称和电子邮件地址：\n",
    "```\n",
    "$ git config --global user.name \"runoob\"  \n",
    "$ git config --global user.email test@runoob.com\n",
    "```\n",
    "如果用了 --global 选项，那么更改的配置文件就是位于你用户主目录(/home/mhxc/)下的那个，以后你所有的项目都会默认使用这里配置的用户信息。  \n",
    "如果要在某个特定的项目中使用其他名字或者电邮，只要去掉 --global 选项重新配置即可，新的设定保存在当前项目的 .git/config 文件里。 "
   ]
  },
  {
   "cell_type": "markdown",
   "id": "ec2bf1fa-f573-4249-aacc-7292f0b0d038",
   "metadata": {},
   "source": [
    "### 文本编辑器\n",
    "\n",
    "设置Git默认使用的文本编辑器, 一般可能会是 Vi 或者 Vim。如果你有其他偏好，比如 Emacs 的话，可以重新设置：:\n",
    "```\n",
    "$ git config --global core.editor emacs   \n",
    "```"
   ]
  },
  {
   "cell_type": "markdown",
   "id": "a19c0153-1dba-4acd-9e69-59289a58b6ac",
   "metadata": {},
   "source": [
    "### 差异分析工具\n",
    "\n",
    "在解决合并冲突时使用哪种差异分析工具。比如要改用 vimdiff 的话：\n",
    "```\n",
    "$ git config --global merge.tool vimdiff\n",
    "```\n",
    "Git 可以理解 kdiff3，tkdiff，meld，xxdiff，emerge，vimdiff，gvimdiff，ecmerge，和 opendiff 等合并工具的输出信息。也可以指定使用自己开发的工具"
   ]
  },
  {
   "cell_type": "markdown",
   "id": "e1680acb-e0ad-4c32-bcc6-23bcb0ea48a6",
   "metadata": {},
   "source": [
    "### 查看配置信息\n",
    "\n",
    "要检查已有的配置信息，可以使用 git config --list 命令：\n",
    "```\n",
    "$ git config --list\n",
    "\n",
    "user.email=guowm2000@yeah.net\n",
    "core.repositoryformatversion=0\n",
    "core.filemode=true\n",
    "core.bare=false\n",
    "core.logallrefupdates=true\n",
    "user.name=guowm\n",
    "```\n",
    "有时候会看到重复的变量名，那就说明它们来自不同的配置文件（比如 /etc/gitconfig 和 ~/.gitconfig），不过最终 Git 实际采用的是最后一个。  \n",
    "这些配置可以在 ~/.gitconfig 或 /etc/gitconfig 或 .git/config 文件中看到，如下所示：\n",
    "\n",
    "vim ~/.gitconfig \n",
    "\n",
    "显示内容如下所示：\n",
    "```\n",
    "[core]\n",
    "\trepositoryformatversion = 0\n",
    "\tfilemode = true\n",
    "\tbare = false\n",
    "\tlogallrefupdates = true\n",
    "[user]\n",
    "\tname = guowm\n",
    "```\n",
    "也可以直接查阅某个环境变量的设定，只要把特定的名字跟在后面即可，像这样：\n",
    "```\n",
    "$ git config user.name\n",
    "guowm\n",
    "```"
   ]
  },
  {
   "cell_type": "markdown",
   "id": "1aae014f-526a-4568-9491-c45374de1f5c",
   "metadata": {},
   "source": [
    "## Git 工作流程\n",
    "\n",
    "一般工作流程如下：\n",
    "\n",
    "- 克隆 Git 资源作为工作目录。\n",
    "- 在克隆的资源上添加或修改文件。\n",
    "- 如果其他人修改了，你可以更新资源。\n",
    "- 在提交前查看修改。\n",
    "- 提交修改。\n",
    "- 在修改完成后，如果发现错误，可以撤回提交并再次修改并提交。\n",
    "\n",
    "下图展示了 Git 的工作流程：  \n",
    "![ppp](git-process.png)"
   ]
  },
  {
   "cell_type": "markdown",
   "id": "17db5550-b1b5-4efb-ba88-07407d6cdf5b",
   "metadata": {},
   "source": [
    "## Git 工作区、暂存区和版本库\n",
    "\n",
    "**基本概念**  \n",
    "  \n",
    "- **工作区：** 就是你在电脑里能看到的目录（如：/media/数据盘/github/learngit）。  \n",
    "- **暂存区：** 英文叫 stage 或 index。一般存放在 .git 目录下的 index **文件**（/media/数据盘/github/learngit/.git/index）中，所以我们把暂存区有时也叫作索引（index）。  \n",
    "- **版本库：** 工作区有一个隐藏目录 .git(/media/数据盘/github/learngit/.git)，这个不算工作区，而是 Git 的版本库。  \n",
    "\n",
    "下面这个图展示了工作区、版本库中的暂存区和版本库之间的关系：  \n",
    "\n",
    "![workarea](workarea.jpg)  \n",
    "\n",
    "\n",
    "- 图中左侧为工作区，右侧为版本库。在版本库中标记为 \"index\" 的区域是暂存区（stage/index），标记为 \"master\" 的是 master 分支所代表的目录树。  \n",
    "- 图中我们可以看出此时 \"HEAD\" 实际是指向 master 分支的一个\"游标\"。所以图示的命令中出现 HEAD 的地方可以用 master 来替换。  \n",
    "- 图中的 objects 标识的区域为 Git 的对象库，实际位于 \"**.git/objects**\" 目录下，里面包含了创建的各种对象及内容。  \n",
    "- 当对工作区修改（或新增）的文件执行 git add 命令时，暂存区的目录树被更新，同时工作区修改（或新增）的文件内容被写入到对象库中的一个新的对象中，  \n",
    "而该对象的ID被记录在暂存区的文件索引中。  \n",
    "- 当执行提交操作（git commit）时，暂存区的目录树写到版本库（objects,对象库）中，master 分支会做相应的更新。即 master 指向的目录树就是提交时暂存区的目录树。\n",
    "- 当执行 git reset HEAD 命令时，暂存区的目录树会被重写，被 master 分支指向的目录树所替换，但是工作区不受影响。\n",
    "- 当执行 git rm --cached <file> 命令时，会直接从暂存区删除文件，工作区则不做出改变。\n",
    "- 当执行 git checkout . (注意这里的小圆点)或者 git checkout -- <file> 命令时，会用暂存区全部或指定的文件替换工作区的文件。这个操作很危险，  \n",
    "会清除工作区中未添加到暂存区中的改动。\n",
    "- 当执行 git checkout HEAD . 或者 git checkout HEAD <file> 命令时，会用 HEAD 指向的 master 分支中的全部或者部分文件替换暂存区以及工作区  \n",
    "中的文件。这个命令也是极具危险性的，因为不但会清除工作区中未提交的改动，也会清除暂存区中未提交的改动。 \n"
   ]
  },
  {
   "cell_type": "markdown",
   "id": "fc3baee1-c444-498c-97f1-f6fc4c056a52",
   "metadata": {},
   "source": [
    "## Git 创建仓库\n",
    "\n",
    "你可以使用一个已经存在的目录作为 Git 仓库。"
   ]
  },
  {
   "cell_type": "markdown",
   "id": "4ceedc99-329c-40fe-b359-9ed67f298190",
   "metadata": {},
   "source": [
    "### git init\n",
    "\n",
    "Git 使用 git init 命令来初始化一个 Git 仓库，Git 的很多命令都需要在 Git 的仓库中运行，所以 git init 是使用 Git 的第一个命令。在执行完成 git init 命令后，Git 仓库会生成一个 .git 目录，**该目录包含了资源的所有元数据**，其他的项目目录保持不变。  \n",
    "\n",
    "**使用方法**\n",
    "\n",
    "使用当前目录作为 Git 仓库，我们只需使它初始化。\n",
    "```\n",
    "$git init\n",
    "```\n",
    "该命令执行完后会在当前目录生成一个 .git 目录。\n",
    "\n",
    "如果要使用指定目录作为Git仓库。则如下：\n",
    "```shell\n",
    "$git init newrepo\n",
    "```\n",
    "初始化后，会在 newrepo 目录下创建一个名为 .git 的目录，所有 Git 需要的数据和资源都存放在这个目录中。\n",
    "\n",
    "如果当前目录下有几个文件想要纳入版本控制，需要先用 git add 命令告诉 Git 开始对这些文件进行跟踪，然后提交：\n",
    "```shell\n",
    "$ git add *.c\n",
    "$ git add README\n",
    "$ git commit -m '初始化项目版本'\n",
    "```\n",
    "以上命令将目录下以 .c 结尾及 README 文件提交到仓库中。\n",
    "\n",
    "注： 在 Linux 系统中，commit 信息使用单引号 '，Windows 系统，commit 信息使用双引号 \"。所以在 git bash 中 git commit -m '提交说明' 这样是可以的，在 Windows 命令行中就要使用双引号 git commit -m \"提交说明\"。"
   ]
  },
  {
   "cell_type": "markdown",
   "id": "913e91bf-f1fe-4c91-89b9-0bb993123dd2",
   "metadata": {
    "tags": []
   },
   "source": [
    "## 创建新仓库  \n",
    "  \n",
    "1. 创建新文件夹并进入该文件夹\n",
    "    `mkdir learngit`  \n",
    "    `cd learngit`  \n",
    "2. 执行以下命令，创建名为learngit的仓库  \n",
    "    `git init`  \n",
    "    初始化空的 Git 仓库于 /media/数据盘/github/learngit/.git/"
   ]
  },
  {
   "cell_type": "markdown",
   "id": "5e0f00fc-d072-4b9c-97b1-6fed082af203",
   "metadata": {},
   "source": [
    "## 工作流\n",
    "\n",
    "本地仓库由 git 维护的三棵“树”组成。  \n",
    "- 第一个是 工作目录，它持有实际文件；  \n",
    "- 第二个是 暂存区（Index），它像个缓存区域，临时保存你的改动；  \n",
    "- 第三个是 HEAD，它指向你最后一次提交的结果。  \n",
    "如图所示  \n",
    "![ppp](trees.png)"
   ]
  },
  {
   "cell_type": "markdown",
   "id": "19d10baa-7b9b-47b2-92c8-89c131280766",
   "metadata": {},
   "source": [
    "## 添加和提交\n",
    "\n",
    "你可以提出更改（把它们添加到暂存区），使用如下命令：\n",
    "git add <filename>\n",
    "git add *\n",
    "这是 git 基本工作流程的第一步；使用如下命令以实际提交改动：\n",
    "git commit -m \"代码提交信息\"\n",
    "现在，你的改动已经提交到了 HEAD，但是还没到你的远端仓库。\n",
    "推送改动\n",
    "\n",
    "你的改动现在已经在本地仓库的 HEAD 中了。执行如下命令以将这些改动提交到远端仓库：\n",
    "git push origin master\n",
    "可以把 master 换成你想要推送的任何分支。\n",
    "\n",
    "如果你还没有克隆现有仓库，并欲将你的仓库连接到某个远程服务器，你可以使用如下命令添加：\n",
    "git remote add origin <server>\n",
    "如此你就能够将你的改动推送到所添加的服务器上去了。\n",
    "分支\n",
    "\n",
    "分支是用来将特性开发绝缘开来的。在你创建仓库的时候，master 是“默认的”分支。在其他分支上进行开发，完成后再将它们合并到主分支上。\n",
    "\n",
    "创建一个叫做“feature_x”的分支，并切换过去：\n",
    "git checkout -b feature_x\n",
    "切换回主分支：\n",
    "git checkout master\n",
    "再把新建的分支删掉：\n",
    "git branch -d feature_x\n",
    "除非你将分支推送到远端仓库，不然该分支就是 不为他人所见的：\n",
    "git push origin <branch>\n",
    "更新与合并\n",
    "\n",
    "要更新你的本地仓库至最新改动，执行：\n",
    "git pull\n",
    "以在你的工作目录中 获取（fetch） 并 合并（merge） 远端的改动。\n",
    "要合并其他分支到你的当前分支（例如 master），执行：\n",
    "git merge <branch>\n",
    "在这两种情况下，git 都会尝试去自动合并改动。遗憾的是，这可能并非每次都成功，并可能出现冲突（conflicts）。 这时候就需要你修改这些文件来手动合并这些冲突（conflicts）。改完之后，你需要执行如下命令以将它们标记为合并成功：\n",
    "git add <filename>\n",
    "在合并改动之前，你可以使用如下命令预览差异：\n",
    "git diff <source_branch> <target_branch>\n",
    "标签\n",
    "\n",
    "为软件发布创建标签是推荐的。这个概念早已存在，在 SVN 中也有。你可以执行如下命令创建一个叫做 1.0.0 的标签：\n",
    "git tag 1.0.0 1b2e1d63ff\n",
    "1b2e1d63ff 是你想要标记的提交 ID 的前 10 位字符。可以使用下列命令获取提交 ID：\n",
    "git log\n",
    "你也可以使用少一点的提交 ID 前几位，只要它的指向具有唯一性。\n",
    "log\n",
    "\n",
    "如果你想了解本地仓库的历史记录，最简单的命令就是使用:\n",
    "git log\n",
    "你可以添加一些参数来修改他的输出，从而得到自己想要的结果。 只看某一个人的提交记录:\n",
    "git log --author=bob\n",
    "一个压缩后的每一条提交记录只占一行的输出:\n",
    "git log --pretty=oneline\n",
    "或者你想通过 ASCII 艺术的树形结构来展示所有的分支, 每个分支都标示了他的名字和标签:\n",
    "git log --graph --oneline --decorate --all\n",
    "看看哪些文件改变了:\n",
    "git log --name-status\n",
    "这些只是你可以使用的参数中很小的一部分。更多的信息，参考：\n",
    "git log --help\n",
    "替换本地改动\n",
    "\n",
    "假如你操作失误（当然，这最好永远不要发生），你可以使用如下命令替换掉本地改动：\n",
    "git checkout -- <filename>\n",
    "此命令会使用 HEAD 中的最新内容替换掉你的工作目录中的文件。已添加到暂存区的改动以及新文件都不会受到影响。\n",
    "\n",
    "假如你想丢弃你在本地的所有改动与提交，可以到服务器上获取最新的版本历史，并将你本地主分支指向它：\n",
    "git fetch origin\n",
    "git reset --hard origin/master\n",
    "实用小贴士\n",
    "\n",
    "内建的图形化 git：\n",
    "gitk\n",
    "彩色的 git 输出：\n",
    "git config color.ui true\n",
    "显示历史记录时，每个提交的信息只显示一行：\n",
    "git config format.pretty oneline\n",
    "交互式添加文件到暂存区：\n",
    "git add -i\n",
    "链接与资源\n",
    "图形化客户端\n",
    "\n",
    "    GitX (L) (OSX, 开源软件)\n",
    "    Tower (OSX)\n",
    "    Source Tree (OSX, 免费)\n",
    "    GitHub for Mac (OSX, 免费)\n",
    "    GitBox (OSX, App Store)\n",
    "\n",
    "指南和手册\n",
    "\n",
    "    Git 社区参考书\n",
    "    专业 Git\n",
    "    像 git 那样思考\n",
    "    GitHub 帮助\n",
    "    图解 Git\n",
    "\n",
    "评论"
   ]
  },
  {
   "cell_type": "markdown",
   "id": "a41ee7e3-a35d-4ae3-93db-33f84cb16190",
   "metadata": {},
   "source": []
  },
  {
   "cell_type": "markdown",
   "id": "34d16a2c-0372-4f7a-87ce-7dc8703cb86d",
   "metadata": {
    "tags": []
   },
   "source": [
    "## 检出仓库\n",
    "\n",
    "执行如下命令以创建一个本地仓库的克隆版本：\n",
    "git clone /path/to/repository\n",
    "如果是远端服务器上的仓库，你的命令会是这个样子：\n",
    "git clone username@host:/path/to/repository"
   ]
  }
 ],
 "metadata": {
  "kernelspec": {
   "display_name": "Python 3 (ipykernel)",
   "language": "python",
   "name": "python3"
  },
  "language_info": {
   "codemirror_mode": {
    "name": "ipython",
    "version": 3
   },
   "file_extension": ".py",
   "mimetype": "text/x-python",
   "name": "python",
   "nbconvert_exporter": "python",
   "pygments_lexer": "ipython3",
   "version": "3.9.9"
  }
 },
 "nbformat": 4,
 "nbformat_minor": 5
}
