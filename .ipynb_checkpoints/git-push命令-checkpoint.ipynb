{
 "cells": [
  {
   "cell_type": "markdown",
   "id": "d06b6fe6-833a-49ec-845b-da839dad28db",
   "metadata": {},
   "source": [
    "## GIT-PUSH(1)                                      Git Manual                                     GIT-PUSH(1)\n",
    "\n",
    "NAME\n",
    "       git-push - Update remote refs along with associated objects\n",
    "\n",
    "SYNOPSIS\n",
    "       git push [--all | --mirror | --tags]  \n",
    "       [--follow-tags]  \n",
    "       [--atomic]  \n",
    "       [-n | --dry-run]  \n",
    "       [--receive-pack=<git-receive-pack>] \n",
    "       [--repo=<repository>]  \n",
    "       [-f | --force]  \n",
    "       [--prune]  \n",
    "       [-v | --verbose]\n",
    "       [-u | --set-upstream]\n",
    "       [--[no-]signed|--sign=(true|false|if-asked)]\n",
    "       [--force-with-lease[=<refname>[:<expect>]]]\n",
    "       [--no-verify]  \n",
    "       [<repository> [<refspec>...]]"
   ]
  },
  {
   "cell_type": "markdown",
   "id": "50ae4a6b-d499-454b-b61b-62aec1e2edb2",
   "metadata": {},
   "source": [
    "### DESCRIPTION\n",
    "Updates remote refs using local refs, while sending objects necessary to complete the given refs.  \n",
    "    \n",
    "使用本地引用更新远程引用，同时发送给定应用所指代的对象。\n",
    "\n",
    "You can make interesting things happen to a repository every time you push into it, by setting up hooks there. See documentation for git-receive-pack(1).  \n",
    "  \n",
    "通过在存储库中设置挂钩，您可以在每次向仓库推送时使其发生有趣的事情。请参阅git-receive-pack（1）的文档。\n",
    "\n",
    "When the command line does not specify where to push with the <repository> argument, branch.*.remote configuration for the current branch is consulted to determine where to push. If the configuration is missing, it defaults to origin.  \n",
    "\n",
    "当命令行没有使用**＜repository＞**参数指定推送位置时，将查询当前分支的branch.x.remote配置以确定推送位置。如果缺少这个配置选项，则默认推送到 **origin**。\n",
    "\n",
    "When the command line does not specify what to push with <refspec>... arguments or --all, --mirror,--tags options, the command finds the default <refspec> by consulting remote.*.push configuration,and if it is not found, honors push.default configuration to decide what to push (See git-config(1)for the meaning of push.default).\n",
    "\n",
    "当命令行没有使用**＜refspec＞**参数指定推送什么，也没有使用--all、--mirror、--tags选项时，该命令通过查阅remote.*.push配置来查找默认的**＜refspec＞**，如果找不到，则使用push.default配置来决定要推送什么（请参阅git config（1）中关于push.default的含义）。\n",
    "    \n",
    "When neither the command-line nor the configuration specify what to push, the default behavior is used, which corresponds to the simple value for push.default: the current branch is pushed to the corresponding upstream branch, but as a safety measure, the push is aborted if the upstream branch does not have the same name as the local one.\n",
    "\n",
    "当命令行和配置都没有指定要推送的内容时，将使用默认行为，该行为对应于push.default的简单值：当前分支被推送到相应的上游分支，但作为一种安全措施，如果上游分支与本地分支的名称不相同，则推送将中止。\n",
    "    "
   ]
  },
  {
   "cell_type": "markdown",
   "id": "caae4ef2-5a0f-40a7-888d-f7d5851494b0",
   "metadata": {
    "tags": []
   },
   "source": [
    "### OPTIONS\n",
    "**< repository >**  \n",
    "The \"remote\" repository that is destination of a push operation. This parameter can be either a URL (see the section GIT URLS below) or the name of a remote (see the section REMOTES below).\n",
    "\n",
    "远程仓库是push操作的目的地。这个参数可以是一个URL(参看下面的GIT URL一节），也可以是远程仓库的名字（参看下面的REMOTES一节）"
   ]
  },
  {
   "cell_type": "markdown",
   "id": "0e214c26-b9a6-4d63-a0ab-75da582ea855",
   "metadata": {
    "tags": []
   },
   "source": [
    "**< refspec >...**  \n",
    "Specify what destination ref to update with what source object. The format of a **< refspec >** parameter is an optional plus +, followed by the source object **< src >**, followed by a **colon :** , followed by the destination ref **< dst >**.\n",
    "\n",
    "该参数用于指定使用哪个源对象更新目标引用。＜refspec＞参数的格式是可选的加号，后跟源对象＜src＞，后跟冒号：，后跟目标ref＜dst＞。\n",
    "\n",
    "The < src > is often the name of the branch you would want to push, but it can be any arbitrary \"SHA-1 expression\", such as master~4 or HEAD (see gitrevisions(7)).\n",
    "\n",
    "< src >通常是您想要推送的分支的名称，但它可以是任何任意的“SHA-1表达式”，如master~4或HEAD（请参阅git revisions（7））。\n",
    "\n",
    "The < dst > tells which ref on the remote side is updated with this push. Arbitrary expressions cannot be used here, an actual ref must be named. If **git push [ < repository > ]** without any < refspec > argument is set to update some ref at the destination with < src > with **remote.< repository >.push** configuration variable, :< dst > part can be omitted—such a push will update a ref that < src > normally updates without any < refspec > on the command line. Otherwise, missing :< dst > means to update the same ref as the < src >.\n",
    "\n",
    "< dst >告诉远程端本次推送将更新哪个ref（应用）。此处不能使用任意表达式，必须命名一个实际的ref。如果**git-push[ < repository > ]** 命令不带任何< refspec >参数，那将会使用**remote.< repository >.push**配置变量来更新目标处的ref（远端的仓库应用名）。**：＜dst＞**部分可以省略，这样的push将更新＜src＞通常更新的ref，而命令行上没有任何＜refspec＞。否则，缺失**:< dst >** 意味着更新与< src >相同的ref。\n",
    "\n",
    "           The object referenced by <src> is used to update the <dst> reference on the remote side. By\n",
    "           default this is only allowed if <dst> is not a tag (annotated or lightweight), and then only if\n",
    "           it can fast-forward <dst>. By having the optional leading +, you can tell Git to update the\n",
    "           <dst> ref even if it is not allowed by default (e.g., it is not a fast-forward.) This does not\n",
    "           attempt to merge <src> into <dst>. See EXAMPLES below for details.\n",
    "\n",
    "           tag <tag> means the same as refs/tags/<tag>:refs/tags/<tag>.\n",
    "\n",
    "           Pushing an empty <src> allows you to delete the <dst> ref from the remote repository.\n",
    "\n",
    "           The special refspec : (or +: to allow non-fast-forward updates) directs Git to push \"matching\"\n",
    "           branches: for every branch that exists on the local side, the remote side is updated if a branch\n",
    "           of the same name already exists on the remote side.\n",
    "\n",
    "       --all\n",
    "           Push all branches (i.e. refs under refs/heads/); cannot be used with other <refspec>."
   ]
  }
 ],
 "metadata": {
  "kernelspec": {
   "display_name": "Python 3 (ipykernel)",
   "language": "python",
   "name": "python3"
  },
  "language_info": {
   "codemirror_mode": {
    "name": "ipython",
    "version": 3
   },
   "file_extension": ".py",
   "mimetype": "text/x-python",
   "name": "python",
   "nbconvert_exporter": "python",
   "pygments_lexer": "ipython3",
   "version": "3.9.9"
  }
 },
 "nbformat": 4,
 "nbformat_minor": 5
}
