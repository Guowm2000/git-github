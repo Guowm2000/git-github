{
 "cells": [
  {
   "cell_type": "markdown",
   "id": "29f992c9-9e32-48a6-a035-edc240acc367",
   "metadata": {},
   "source": [
    "# Git练习"
   ]
  },
  {
   "cell_type": "markdown",
   "id": "6b47d660-d4ef-45ee-9375-7988eb03aac7",
   "metadata": {},
   "source": [
    "## 1. 将远端仓库拉到本地，pull远端仓库Guowm2000/remote-repos  \n",
    "\n",
    ">1. mkdir test\n",
    ">2. cd test\n",
    ">3. git init\n",
    ">4. git pull git@github.com:Guowm2000/remote-repos.git\n",
    "\n",
    "以上将远端 Guowm2000/remote-repos 中的 main 分支拉到本地 test 中,因未指定下载远端哪个分支，故下载了主分支。\n"
   ]
  },
  {
   "cell_type": "markdown",
   "id": "4ab6e383-e7e3-4c1f-b4cf-25beee96b6fa",
   "metadata": {},
   "source": [
    "## 2. 将远端仓库的 clone-remote-branch1 分支下载到本地当前分支\n",
    ">1. cd test1     \n",
    ">2. git checkout clone-remote-branch1     \n",
    ">3. git pull git@github.com:Guowm2000/remote-repos.git clone-remote-branch1\n",
    "\n",
    "以上将远端分支 clone-remote-branch1 下载到了本地仓库 test1 的分支 clone-remote-branch1 中，这里远端和本地当前分支名相同。"
   ]
  },
  {
   "cell_type": "markdown",
   "id": "9e9bc635-d779-4bc4-a1dd-e5775847857b",
   "metadata": {},
   "source": [
    "## 3.将远端指定分支(remote-branch-20)下载到本地指定分支(local-branch20)，本地分支不必是当前分支。\n",
    "`git pull rmt  remote-branch-20:local-branch20  `\n",
    ">remote-branch-20------远端分支，即src  \n",
    ">local-branch20----------本地分支，即dst"
   ]
  },
  {
   "cell_type": "markdown",
   "id": "a4898c42-c944-485e-bc02-7dadb8de0c1e",
   "metadata": {
    "jp-MarkdownHeadingCollapsed": true,
    "tags": []
   },
   "source": [
    "## 4. clone 远端仓库Guowm2000/remote-repos\n",
    "\n",
    ">`git clone git@github.com:Guowm2000/remote-repos.git`  \n",
    "\n",
    ">将 Guowm2000/remote-repos 仓库克隆到了本地当前目录，本地自动新建了 remote-repos 仓库，里面就是克隆下来的内容  \n",
    ">如果要克隆到指定目录，可在远端仓库明之后家本地路径，如：  \n",
    "\n",
    ">`git clone git@github.com:Guowm2000/remote-repos.git /home/mhxc/test3`\n",
    "\n",
    ">`git branch`  \n",
    ">查看 remote-repos 有关内容,会看到只有一个 main 分支\n",
    "\n",
    ">`git branch -r`  \n",
    ">查看从远端克隆下来的分支。可以看到全部远端分支，具体如下所示，可以看到有四个分支，当前 HEAD 指向的是 origin/main\n",
    ">>origin/HEAD -> origin/main  \n",
    ">>origin/main  \n",
    ">>origin/remote-branch-1  \n",
    ">>origin/remote-branch-2  \n",
    ">>origin/remote-branch-3  \n",
    "\n",
    ">`git checkout origin/remote-branch-1`  \n",
    ">切换到 origin/remote-branch-1 分支，注意直接在此分支做的任何修改不会被保存，除非执行以下命令  \n",
    "\n",
    ">`git checkout -b clone-remote-branch1`  \n",
    ">在本地建立一个名为 clone-remote-branch1 的新分支，并保存刚才在分支 origin/remote-branch-1 中所做的修改。这应该就是  \n",
    ">获取并使用远程非主分支的方法吧\n",
    "\n",
    "\n"
   ]
  },
  {
   "cell_type": "markdown",
   "id": "4b071cd0-d4d6-4a36-a9c4-01e3248c97c8",
   "metadata": {},
   "source": [
    "## 5. push本地仓库到远端仓库Guowm2000/remote-repos\n",
    ">`cd ~/test1/remote-repos`  \n",
    ">`vi file-remote-branch1`  \n",
    ">`git add .`  \n",
    ">`git commit -m \"change something on local\"`   \n",
    ">`git config --global push.default simple`  #设置一次即可，有关说明见下面。   \n",
    ">`git remote add rmt git@github.com:Guowm2000/remote-repos.git`  \n",
    ">`git push rmt`  \n",
    "\n",
    "**说明：**  \n",
    "- 由于设置了 git config --global push.default simple，且未指定远程分支名，所以一次push只是将本地当前分支推送到远程同名分支下\n",
    "- 如果远端没有同名分支，则自动在远端建立一个同名新分支"
   ]
  },
  {
   "cell_type": "markdown",
   "id": "4a998074-1c17-43a7-a2cd-dcc5322d1829",
   "metadata": {},
   "source": [
    "## 6. push本地仓库到远端仓库Guowm2000/remote-repos 并 指定本地分支名和远端分支名\n",
    "> `git push rmt laocl-branch:remote-branch`\n",
    "\n",
    "**说明：**\n",
    "- rmt---------------远端仓库链接名\n",
    "- laocl-branch------本地仓库分支名，必须已存在\n",
    "- remote-branch-----远端仓库分支名，可以存在，也可以不存在，若不存在则自动创建一个"
   ]
  },
  {
   "cell_type": "markdown",
   "id": "d405452f-2257-4ff7-9e95-a918164a6824",
   "metadata": {},
   "source": [
    "**push.default参数的设置**  \n",
    "\n",
    "当未设置此参数时，使用` git remote add `命令会出现如下提示:  \n",
    "```\n",
    "warning: push.default 尚未设置，它的默认值在 Git 2.0 已从 'matching' 变更为 'simple'。若要不再显示本信息并保持传统习惯，进行如下设置：\n",
    "\n",
    "  git config --global push.default matching\n",
    "\n",
    "若要不再显示本信息并从现在开始采用新的使用习惯，设置：\n",
    "\n",
    "  git config --global push.default simple\n",
    "  \n",
    "当 push.default 设置为 'matching' 后，git 将推送和远程同名的所有本地分支.从 Git 2.0 开始，Git 默认采用更为保守的 'simple' 模式，只推\n",
    "送当前分支到远程关联的同名分支，即 'git push' 推送当前分支。参见 'git help config' 并查找 'push.default' 以获取更多信息。（'simple' \n",
    "模式由 Git 1.7.11 版本引入。如果您有时要使用老版本的 Git，为保持兼容，请用 'current' 代替 'simple'）\n",
    "```\n"
   ]
  },
  {
   "cell_type": "markdown",
   "id": "c6fefba4-5395-4fdd-a3ad-e8acec3ccc33",
   "metadata": {},
   "source": []
  }
 ],
 "metadata": {
  "kernelspec": {
   "display_name": "Python 3 (ipykernel)",
   "language": "python",
   "name": "python3"
  },
  "language_info": {
   "codemirror_mode": {
    "name": "ipython",
    "version": 3
   },
   "file_extension": ".py",
   "mimetype": "text/x-python",
   "name": "python",
   "nbconvert_exporter": "python",
   "pygments_lexer": "ipython3",
   "version": "3.9.9"
  }
 },
 "nbformat": 4,
 "nbformat_minor": 5
}
